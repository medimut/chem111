{
  "nbformat": 4,
  "nbformat_minor": 0,
  "metadata": {
    "colab": {
      "name": "Ag and Cu lab.ipynb",
      "provenance": [],
      "authorship_tag": "ABX9TyN2hqx+9UeCFScWBFzC1Ej4",
      "include_colab_link": true
    },
    "kernelspec": {
      "name": "python3",
      "display_name": "Python 3"
    }
  },
  "cells": [
    {
      "cell_type": "markdown",
      "metadata": {
        "id": "view-in-github",
        "colab_type": "text"
      },
      "source": [
        "<a href=\"https://colab.research.google.com/github/mts5748/chem111/blob/master/Ag%20and%20Cu%20lab/Ag_and_Cu_lab.ipynb\" target=\"_parent\"><img src=\"https://colab.research.google.com/assets/colab-badge.svg\" alt=\"Open In Colab\"/></a>"
      ]
    },
    {
      "cell_type": "markdown",
      "metadata": {
        "id": "Ri1jtopSpaJr",
        "colab_type": "text"
      },
      "source": [
        "This is for Lab 4: Mole to Mole ratio of Ag and Cu"
      ]
    }
  ]
}